{
 "cells": [
  {
   "cell_type": "code",
   "execution_count": 11,
   "metadata": {},
   "outputs": [
    {
     "data": {
      "text/plain": [
       "<module 'src.geom' from 'c:\\\\Users\\\\herbi\\\\Documents\\\\Spring 2022\\\\6141\\\\racecar_docker\\\\home\\\\racecar_ws\\\\src\\\\wall_follower_sim\\\\src\\\\geom.py'>"
      ]
     },
     "execution_count": 11,
     "metadata": {},
     "output_type": "execute_result"
    }
   ],
   "source": [
    "import numpy as np\n",
    "import matplotlib.pyplot as plt\n",
    "import imp \n",
    "from src import line_finders\n",
    "from src import geom\n",
    "\n",
    "imp.reload(line_finders)\n",
    "imp.reload(geom)"
   ]
  },
  {
   "cell_type": "code",
   "execution_count": 12,
   "metadata": {},
   "outputs": [
    {
     "name": "stdout",
     "output_type": "stream",
     "text": [
      "LinAlgError: SVD did not converge in Linear Least Squares\n",
      "[[0. 1.]\n",
      " [0. 2.]\n",
      " [0. 3.]\n",
      " [0. 4.]\n",
      " [0. 5.]\n",
      " [0. 6.]]\n",
      "[(array([1., 0.]), array([6., 0.]), 0.0, 0.0), (array([0., 1.]), array([0., 6.]), inf, 0.0)]\n",
      "[(array([1., 0.]), array([6., 0.]), 0.0, 0.0), (array([0., 1.]), array([0., 6.]), inf, 0.0)]\n"
     ]
    },
    {
     "name": "stderr",
     "output_type": "stream",
     "text": [
      "C:\\Users\\herbi\\anaconda3\\lib\\site-packages\\numpy\\lib\\polynomial.py:659: RuntimeWarning: invalid value encountered in true_divide\n",
      "  lhs /= scale\n"
     ]
    },
    {
     "data": {
      "image/png": "[encoded data removed]",
      "text/plain": [
       "<Figure size 432x288 with 1 Axes>"
      ]
     },
     "metadata": {
      "needs_background": "light"
     },
     "output_type": "display_data"
    }
   ],
   "source": [
    "test_points = np.array([[1.0, 0], [2.0, 0], [6.0, 0], [0, 1], [0, 2], [0, 3], [0, 4], [3.0, 0],[4.0, 0], [5.0, 0],[0, 5], [0, 6]])\n",
    "plt.plot(test_points[:, 0], test_points[:, 1], 'o')\n",
    "plt.plot(test_points[:, 0], -0.75*test_points[:,0] + 1.75, '-')\n",
    "print(line_finders.split_and_merge(test_points))"
   ]
  }
 ],
 "metadata": {
  "interpreter": {
   "hash": "37ef772f0ffaa6718f9d82c10fa6b09307349ff6fc1a958e39c88f72dfdfc530"
  },
  "kernelspec": {
   "display_name": "Python 3.8.8 ('base')",
   "language": "python",
   "name": "python3"
  },
  "language_info": {
   "codemirror_mode": {
    "name": "ipython",
    "version": 3
   },
   "file_extension": ".py",
   "mimetype": "text/x-python",
   "name": "python",
   "nbconvert_exporter": "python",
   "pygments_lexer": "ipython3",
   "version": "3.8.8"
  },
  "orig_nbformat": 4
 },
 "nbformat": 4,
 "nbformat_minor": 2
}
