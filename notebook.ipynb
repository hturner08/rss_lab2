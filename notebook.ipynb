{
 "cells": [
  {
   "cell_type": "code",
   "execution_count": 15,
   "metadata": {},
   "outputs": [
    {
     "ename": "SyntaxError",
     "evalue": "invalid syntax (<ipython-input-15-f0ced38e3e64>, line 1)",
     "output_type": "error",
     "traceback": [
      "\u001b[1;36m  File \u001b[1;32m\"<ipython-input-15-f0ced38e3e64>\"\u001b[1;36m, line \u001b[1;32m1\u001b[0m\n\u001b[1;33m    from reload(src.utils) import *\u001b[0m\n\u001b[1;37m               ^\u001b[0m\n\u001b[1;31mSyntaxError\u001b[0m\u001b[1;31m:\u001b[0m invalid syntax\n"
     ]
    }
   ],
   "source": [
    "import numpy as np\n",
    "import matplotlib.pyplot as plt\n",
    "import imp \n",
    "from src import utils\n",
    "\n",
    "imp.reload(utils)"
   ]
  },
  {
   "cell_type": "code",
   "execution_count": 12,
   "metadata": {},
   "outputs": [
    {
     "name": "stdout",
     "output_type": "stream",
     "text": [
      "[[1. 0.]\n",
      " [2. 0.]\n",
      " [3. 0.]\n",
      " [0. 1.]\n",
      " [0. 2.]\n",
      " [0. 3.]]\n",
      "0\n",
      "1.0000000000000002\n",
      "-0.7499999999999998 1.75\n",
      "[(array([1., 0.]), array([0., 3.]))]\n"
     ]
    },
    {
     "data": {
      "image/png": "[encoded data removed]",
      "text/plain": [
       "<Figure size 432x288 with 1 Axes>"
      ]
     },
     "metadata": {
      "needs_background": "light"
     },
     "output_type": "display_data"
    }
   ],
   "source": [
    "test_points = np.array([[1.0, 0], [2.0, 0], [3.0, 0], [0, 1], [0, 2], [0, 3]])\n",
    "plt.plot(test_points[:, 0], test_points[:, 1], 'o')\n",
    "plt.plot(test_points[:, 0], -0.75*test_points[:,0] + 1.75, '-')\n",
    "print(split_and_merge(test_points))"
   ]
  }
 ],
 "metadata": {
  "interpreter": {
   "hash": "37ef772f0ffaa6718f9d82c10fa6b09307349ff6fc1a958e39c88f72dfdfc530"
  },
  "kernelspec": {
   "display_name": "Python 3.8.8 ('base')",
   "language": "python",
   "name": "python3"
  },
  "language_info": {
   "codemirror_mode": {
    "name": "ipython",
    "version": 3
   },
   "file_extension": ".py",
   "mimetype": "text/x-python",
   "name": "python",
   "nbconvert_exporter": "python",
   "pygments_lexer": "ipython3",
   "version": "3.8.8"
  },
  "orig_nbformat": 4
 },
 "nbformat": 4,
 "nbformat_minor": 2
}
